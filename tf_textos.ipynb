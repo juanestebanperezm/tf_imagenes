{
  "nbformat": 4,
  "nbformat_minor": 0,
  "metadata": {
    "colab": {
      "name": "tf_textos.ipynb",
      "provenance": [],
      "collapsed_sections": [],
      "authorship_tag": "ABX9TyNFw1OEuErgf99VZizaUoe8",
      "include_colab_link": true
    },
    "kernelspec": {
      "name": "python3",
      "display_name": "Python 3"
    },
    "language_info": {
      "name": "python"
    },
    "accelerator": "GPU",
    "gpuClass": "standard"
  },
  "cells": [
    {
      "cell_type": "markdown",
      "metadata": {
        "id": "view-in-github",
        "colab_type": "text"
      },
      "source": [
        "<a href=\"https://colab.research.google.com/github/juanestebanperezm/tf_imagenes/blob/main/tf_textos.ipynb\" target=\"_parent\"><img src=\"https://colab.research.google.com/assets/colab-badge.svg\" alt=\"Open In Colab\"/></a>"
      ]
    },
    {
      "cell_type": "code",
      "execution_count": 5,
      "metadata": {
        "id": "zIateqRj_1vz"
      },
      "outputs": [],
      "source": [
        "import io\n",
        "import os\n",
        "import re\n",
        "import shutil\n",
        "import string\n",
        "\n",
        "import tensorflow as tf\n",
        "from tensorflow import keras\n",
        "from tensorflow.keras import Sequential\n",
        "from tensorflow.keras.layers import Dense, Embedding, GlobalAveragePooling1D, TextVectorization\n",
        "\n"
      ]
    },
    {
      "cell_type": "code",
      "source": [
        "url = \"https://ai.stanford.edu/~amaas/data/sentiment/aclImdb_v1.tar.gz\"\n",
        "\n",
        "datos = keras.utils.get_file(\n",
        "                            \"aclImdb_v1.tar.gz\",\n",
        "                            url, \n",
        "                            untar = True, \n",
        "                            cache_dir = \".\", \n",
        "                            cache_subdir = \"\"\n",
        "                             )\n",
        "\n",
        "datos_dir = os.path.join(os.path.dirname(datos),'aclImdb')\n",
        "\n",
        "os.listdir(datos_dir)"
      ],
      "metadata": {
        "colab": {
          "base_uri": "https://localhost:8080/"
        },
        "id": "w_K_52d0ASnH",
        "outputId": "302f2f0e-17c6-4652-fd5b-8f25037bfb00"
      },
      "execution_count": 7,
      "outputs": [
        {
          "output_type": "execute_result",
          "data": {
            "text/plain": [
              "['imdb.vocab', 'test', 'README', 'train', 'imdbEr.txt']"
            ]
          },
          "metadata": {},
          "execution_count": 7
        }
      ]
    },
    {
      "cell_type": "code",
      "source": [
        "entrenamiento_dir = os.path.join(datos_dir,'train')\n",
        "remover_dir = os.path.join(entrenamiento_dir,'unsup')\n",
        "shutil.rmtree(remover_dir)"
      ],
      "metadata": {
        "id": "u97SuKWSA68V"
      },
      "execution_count": 9,
      "outputs": []
    },
    {
      "cell_type": "code",
      "source": [
        "batch_size = 1024\n",
        "seed = 123\n",
        "\n",
        "entrenamiento_ds = keras.utils.text_dataset_from_directory(\n",
        "    'aclImdb/train',\n",
        "    batch_size = batch_size,\n",
        "    validation_split = 0.2,\n",
        "    subset = \"training\",\n",
        "    seed = seed\n",
        ")\n",
        "\n",
        "validacion_ds = keras.utils.text_dataset_from_directory(\n",
        "    'aclImdb/train',\n",
        "    batch_size = batch_size,\n",
        "    validation_split = 0.2,\n",
        "    subset = \"validation\",\n",
        "    seed = seed\n",
        "\n",
        ")"
      ],
      "metadata": {
        "colab": {
          "base_uri": "https://localhost:8080/"
        },
        "id": "C0945cCoBOh1",
        "outputId": "dfd415a1-2549-4e3e-f913-eb5928f64067"
      },
      "execution_count": 11,
      "outputs": [
        {
          "output_type": "stream",
          "name": "stdout",
          "text": [
            "Found 25000 files belonging to 2 classes.\n",
            "Using 20000 files for training.\n",
            "Found 25000 files belonging to 2 classes.\n",
            "Using 5000 files for validation.\n"
          ]
        }
      ]
    },
    {
      "cell_type": "code",
      "source": [
        "AUTOTUNE = tf.data.AUTOTUNE\n",
        "\n",
        "entrenamiento_ds = entrenamiento_ds.cache().prefetch( buffer_size = AUTOTUNE )\n",
        "validacion_ds = validacion_ds.prefetch( buffer_size = AUTOTUNE  )"
      ],
      "metadata": {
        "id": "VbZDy53fB7bU"
      },
      "execution_count": 12,
      "outputs": []
    },
    {
      "cell_type": "code",
      "source": [
        "capa_embebida = Embedding(1000,5)"
      ],
      "metadata": {
        "id": "VxYkvjbWCNJD"
      },
      "execution_count": 13,
      "outputs": []
    },
    {
      "cell_type": "code",
      "source": [
        "def custom_standardization(input_data):\n",
        "  lowercase = tf.strings.lower(input_data)\n",
        "  stripped_html = tf.strings.regex_replace(lowercase, \"<br />\", \" \" )\n",
        "  return tf.strings.regex_replace( \n",
        "        stripped_html, \n",
        "        \"[%s]\"%re.escape(string.punctuation),\n",
        "        \"\" \n",
        "        )\n",
        "  \n",
        "\n",
        "total_vocabulario = 10000\n",
        "longitud_secuencia = 100\n",
        "\n",
        "capa_vectorizada = TextVectorization(\n",
        "    standardize = custom_standardization,\n",
        "    max_tokens = total_vocabulario,\n",
        "    output_mode = \"int\",\n",
        "    output_sequence_length = longitud_secuencia\n",
        ")\n",
        "\n",
        "texto_ds = entrenamiento_ds.map( lambda x , y : x )\n",
        "capa_vectorizada.adapt(texto_ds)"
      ],
      "metadata": {
        "id": "_n9re7O7CVS7"
      },
      "execution_count": 22,
      "outputs": []
    },
    {
      "cell_type": "code",
      "source": [
        "dimensiones_embebidas = 16\n",
        "\n",
        "modelo = Sequential( \n",
        "                    [\n",
        "                      capa_vectorizada,\n",
        "                      Embedding(total_vocabulario, dimensiones_embebidas ,name = \"embebida\"),\n",
        "                      GlobalAveragePooling1D(),\n",
        "                      Dense(16,activation = \"relu\"),\n",
        "                      Dense(1)\n",
        "                    ] \n",
        "                    )"
      ],
      "metadata": {
        "id": "y7HOYoDvFW5e"
      },
      "execution_count": 25,
      "outputs": []
    },
    {
      "cell_type": "code",
      "source": [
        "tensor_llamada = keras.callbacks.TensorBoard(log_dir = \"logs\")\n",
        "\n",
        "\n",
        "modelo.compile(\n",
        "    optimizer = \"adam\",\n",
        "    loss = keras.losses.BinaryCrossentropy( from_logits = True ),\n",
        "    metrics = [\"accuracy\"]\n",
        ")"
      ],
      "metadata": {
        "id": "2icmYuppF8ak"
      },
      "execution_count": 27,
      "outputs": []
    },
    {
      "cell_type": "code",
      "source": [
        "modelo.fit(\n",
        "    entrenamiento_ds,\n",
        "    validation_data = validacion_ds,\n",
        "    epochs = 15,\n",
        "    callbacks = [tensor_llamada]\n",
        ")"
      ],
      "metadata": {
        "colab": {
          "base_uri": "https://localhost:8080/"
        },
        "id": "duToU101GRiF",
        "outputId": "797df0db-ad32-451f-81fa-e53a2f08e64e"
      },
      "execution_count": 28,
      "outputs": [
        {
          "output_type": "stream",
          "name": "stdout",
          "text": [
            "Epoch 1/15\n",
            "20/20 [==============================] - 6s 110ms/step - loss: 0.6918 - accuracy: 0.5028 - val_loss: 0.6896 - val_accuracy: 0.4886\n",
            "Epoch 2/15\n",
            "20/20 [==============================] - 2s 99ms/step - loss: 0.6870 - accuracy: 0.5028 - val_loss: 0.6830 - val_accuracy: 0.4886\n",
            "Epoch 3/15\n",
            "20/20 [==============================] - 2s 108ms/step - loss: 0.6784 - accuracy: 0.5028 - val_loss: 0.6722 - val_accuracy: 0.4886\n",
            "Epoch 4/15\n",
            "20/20 [==============================] - 2s 113ms/step - loss: 0.6648 - accuracy: 0.5028 - val_loss: 0.6564 - val_accuracy: 0.4886\n",
            "Epoch 5/15\n",
            "20/20 [==============================] - 2s 107ms/step - loss: 0.6455 - accuracy: 0.5087 - val_loss: 0.6356 - val_accuracy: 0.5124\n",
            "Epoch 6/15\n",
            "20/20 [==============================] - 2s 105ms/step - loss: 0.6208 - accuracy: 0.5643 - val_loss: 0.6108 - val_accuracy: 0.5898\n",
            "Epoch 7/15\n",
            "20/20 [==============================] - 2s 106ms/step - loss: 0.5916 - accuracy: 0.6471 - val_loss: 0.5833 - val_accuracy: 0.6560\n",
            "Epoch 8/15\n",
            "20/20 [==============================] - 2s 114ms/step - loss: 0.5596 - accuracy: 0.7146 - val_loss: 0.5549 - val_accuracy: 0.7010\n",
            "Epoch 9/15\n",
            "20/20 [==============================] - 2s 116ms/step - loss: 0.5267 - accuracy: 0.7553 - val_loss: 0.5274 - val_accuracy: 0.7348\n",
            "Epoch 10/15\n",
            "20/20 [==============================] - 2s 115ms/step - loss: 0.4948 - accuracy: 0.7818 - val_loss: 0.5021 - val_accuracy: 0.7538\n",
            "Epoch 11/15\n",
            "20/20 [==============================] - 2s 109ms/step - loss: 0.4649 - accuracy: 0.8015 - val_loss: 0.4797 - val_accuracy: 0.7646\n",
            "Epoch 12/15\n",
            "20/20 [==============================] - 2s 107ms/step - loss: 0.4377 - accuracy: 0.8169 - val_loss: 0.4605 - val_accuracy: 0.7726\n",
            "Epoch 13/15\n",
            "20/20 [==============================] - 2s 106ms/step - loss: 0.4133 - accuracy: 0.8281 - val_loss: 0.4441 - val_accuracy: 0.7814\n",
            "Epoch 14/15\n",
            "20/20 [==============================] - 2s 106ms/step - loss: 0.3915 - accuracy: 0.8386 - val_loss: 0.4304 - val_accuracy: 0.7906\n",
            "Epoch 15/15\n",
            "20/20 [==============================] - 2s 107ms/step - loss: 0.3720 - accuracy: 0.8473 - val_loss: 0.4190 - val_accuracy: 0.7962\n"
          ]
        },
        {
          "output_type": "execute_result",
          "data": {
            "text/plain": [
              "<keras.callbacks.History at 0x7f1e6789c810>"
            ]
          },
          "metadata": {},
          "execution_count": 28
        }
      ]
    }
  ]
}