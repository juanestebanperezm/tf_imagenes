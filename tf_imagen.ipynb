{
  "nbformat": 4,
  "nbformat_minor": 0,
  "metadata": {
    "colab": {
      "name": "tf_imagen.ipynb",
      "provenance": [],
      "collapsed_sections": [],
      "authorship_tag": "ABX9TyO9q7+iXP7Mwj53RRYxuFZx",
      "include_colab_link": true
    },
    "kernelspec": {
      "name": "python3",
      "display_name": "Python 3"
    },
    "language_info": {
      "name": "python"
    },
    "accelerator": "GPU",
    "gpuClass": "standard"
  },
  "cells": [
    {
      "cell_type": "markdown",
      "metadata": {
        "id": "view-in-github",
        "colab_type": "text"
      },
      "source": [
        "<a href=\"https://colab.research.google.com/github/juanestebanperezm/tf_imagenes/blob/main/tf_imagen.ipynb\" target=\"_parent\"><img src=\"https://colab.research.google.com/assets/colab-badge.svg\" alt=\"Open In Colab\"/></a>"
      ]
    },
    {
      "cell_type": "code",
      "source": [
        "import tensorflow as tf\n",
        "from tensorflow.keras import layers, datasets, models\n",
        "from matplotlib.pyplot import matplotlib as plt\n",
        "\n"
      ],
      "metadata": {
        "id": "qTz0uyIeqHz3"
      },
      "execution_count": null,
      "outputs": []
    },
    {
      "cell_type": "code",
      "source": [
        "(entrenamiento_imagenes, labels_entrenamiento),(imagenes_prueba, labels_prueba) = datasets.cifar10.load_data()\n",
        "\n",
        "entrenamiento_imagenes , imagenes_prueba = entrenamiento_imagenes / 255.0 , imagenes_prueba / 255.0"
      ],
      "metadata": {
        "id": "z58pgUUQqg1Y"
      },
      "execution_count": null,
      "outputs": []
    },
    {
      "cell_type": "code",
      "source": [
        "modelo = models.Sequential()\n",
        "\n",
        "modelo.add(layers.Conv2D(32, (3,3),activation=\"relu\",input_shape=(32,32,3) ))\n",
        "modelo.add(layers.MaxPooling2D((2, 2)))\n",
        "modelo.add(layers.Conv2D(64, (3, 3), activation='relu'))\n",
        "modelo.add(layers.MaxPooling2D((2, 2)))\n",
        "modelo.add(layers.Conv2D(64, (3, 3), activation='relu'))\n",
        "modelo.add(layers.Flatten())\n",
        "modelo.add(layers.Dense(64, activation='relu'))\n",
        "modelo.add(layers.Dense(10))"
      ],
      "metadata": {
        "id": "rx1Bys76rPXM"
      },
      "execution_count": null,
      "outputs": []
    },
    {
      "cell_type": "code",
      "source": [
        "modelo.compile(optimizer='adam',\n",
        "              loss=tf.keras.losses.SparseCategoricalCrossentropy(from_logits=True),\n",
        "              metrics=['accuracy'])\n",
        "\n",
        "\n",
        "historial = modelo.fit( entrenamiento_imagenes, \n",
        "                        labels_entrenamiento,\n",
        "                        epochs = 15, \n",
        "                        validation_data = (  \n",
        "                        imagenes_prueba,\n",
        "                        labels_prueba\n",
        "                        )  \n",
        "                        \n",
        "                        )"
      ],
      "metadata": {
        "colab": {
          "base_uri": "https://localhost:8080/"
        },
        "id": "YkKn9pT7skQR",
        "outputId": "cf32f63f-9ea3-46fd-8904-f58a2da2cffa"
      },
      "execution_count": null,
      "outputs": [
        {
          "output_type": "stream",
          "name": "stdout",
          "text": [
            "Epoch 1/15\n",
            "1563/1563 [==============================] - 20s 5ms/step - loss: 1.5502 - accuracy: 0.4334 - val_loss: 1.3004 - val_accuracy: 0.5386\n",
            "Epoch 2/15\n",
            "1563/1563 [==============================] - 7s 5ms/step - loss: 1.1808 - accuracy: 0.5803 - val_loss: 1.0809 - val_accuracy: 0.6168\n",
            "Epoch 3/15\n",
            "1563/1563 [==============================] - 8s 5ms/step - loss: 1.0258 - accuracy: 0.6386 - val_loss: 0.9865 - val_accuracy: 0.6546\n",
            "Epoch 4/15\n",
            "1563/1563 [==============================] - 8s 5ms/step - loss: 0.9297 - accuracy: 0.6746 - val_loss: 0.9570 - val_accuracy: 0.6672\n",
            "Epoch 5/15\n",
            "1563/1563 [==============================] - 8s 5ms/step - loss: 0.8618 - accuracy: 0.6951 - val_loss: 0.9348 - val_accuracy: 0.6736\n",
            "Epoch 6/15\n",
            "1563/1563 [==============================] - 7s 5ms/step - loss: 0.7988 - accuracy: 0.7201 - val_loss: 0.9190 - val_accuracy: 0.6785\n",
            "Epoch 7/15\n",
            "1563/1563 [==============================] - 7s 5ms/step - loss: 0.7511 - accuracy: 0.7349 - val_loss: 0.9071 - val_accuracy: 0.6860\n",
            "Epoch 8/15\n",
            "1563/1563 [==============================] - 7s 5ms/step - loss: 0.7144 - accuracy: 0.7476 - val_loss: 0.8672 - val_accuracy: 0.6957\n",
            "Epoch 9/15\n",
            "1563/1563 [==============================] - 8s 5ms/step - loss: 0.6717 - accuracy: 0.7649 - val_loss: 0.9018 - val_accuracy: 0.6958\n",
            "Epoch 10/15\n",
            "1563/1563 [==============================] - 8s 5ms/step - loss: 0.6357 - accuracy: 0.7758 - val_loss: 0.9199 - val_accuracy: 0.6948\n",
            "Epoch 11/15\n",
            "1563/1563 [==============================] - 7s 5ms/step - loss: 0.5989 - accuracy: 0.7875 - val_loss: 0.9092 - val_accuracy: 0.7011\n",
            "Epoch 12/15\n",
            "1563/1563 [==============================] - 7s 5ms/step - loss: 0.5651 - accuracy: 0.7998 - val_loss: 0.8655 - val_accuracy: 0.7135\n",
            "Epoch 13/15\n",
            "1563/1563 [==============================] - 7s 5ms/step - loss: 0.5324 - accuracy: 0.8110 - val_loss: 0.9037 - val_accuracy: 0.7083\n",
            "Epoch 14/15\n",
            "1563/1563 [==============================] - 8s 5ms/step - loss: 0.5064 - accuracy: 0.8205 - val_loss: 1.0472 - val_accuracy: 0.6847\n",
            "Epoch 15/15\n",
            "1563/1563 [==============================] - 7s 4ms/step - loss: 0.4801 - accuracy: 0.8293 - val_loss: 0.9637 - val_accuracy: 0.7015\n"
          ]
        }
      ]
    },
    {
      "cell_type": "markdown",
      "source": [
        ""
      ],
      "metadata": {
        "id": "bsAHOSrPqgv0"
      }
    }
  ]
}